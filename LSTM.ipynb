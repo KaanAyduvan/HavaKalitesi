{
 "cells": [
  {
   "cell_type": "code",
   "execution_count": 1,
   "metadata": {},
   "outputs": [],
   "source": [
    "import pandas as pd\n",
    "import numpy as np\n",
    "import math\n",
    "import random\n",
    "import matplotlib.pyplot as plt\n",
    "import seaborn as sns\n",
    "import os\n",
    "from sklearn.preprocessing import MinMaxScaler\n",
    "from keras.models import Sequential\n",
    "from keras.layers import LSTM, Dense, Bidirectional\n",
    "from sklearn.metrics import mean_squared_error, mean_absolute_error, r2_score, mean_absolute_percentage_error"
   ]
  },
  {
   "cell_type": "code",
   "execution_count": 2,
   "metadata": {},
   "outputs": [],
   "source": [
    "# Rastgelelik seedi\n",
    "import tensorflow as tf\n",
    "tf.random.set_seed(2)"
   ]
  },
  {
   "cell_type": "markdown",
   "metadata": {},
   "source": [
    "# Verinin yüklenmesi"
   ]
  },
  {
   "cell_type": "code",
   "execution_count": 3,
   "metadata": {},
   "outputs": [
    {
     "data": {
      "text/html": [
       "<div>\n",
       "<style scoped>\n",
       "    .dataframe tbody tr th:only-of-type {\n",
       "        vertical-align: middle;\n",
       "    }\n",
       "\n",
       "    .dataframe tbody tr th {\n",
       "        vertical-align: top;\n",
       "    }\n",
       "\n",
       "    .dataframe thead th {\n",
       "        text-align: right;\n",
       "    }\n",
       "</style>\n",
       "<table border=\"1\" class=\"dataframe\">\n",
       "  <thead>\n",
       "    <tr style=\"text-align: right;\">\n",
       "      <th></th>\n",
       "      <th>date</th>\n",
       "      <th>pm25</th>\n",
       "      <th>pm10</th>\n",
       "      <th>o3</th>\n",
       "      <th>no2</th>\n",
       "      <th>so2</th>\n",
       "      <th>co</th>\n",
       "    </tr>\n",
       "  </thead>\n",
       "  <tbody>\n",
       "    <tr>\n",
       "      <th>0</th>\n",
       "      <td>2025/1/1</td>\n",
       "      <td>115</td>\n",
       "      <td>50</td>\n",
       "      <td>18</td>\n",
       "      <td></td>\n",
       "      <td>10</td>\n",
       "      <td></td>\n",
       "    </tr>\n",
       "    <tr>\n",
       "      <th>1</th>\n",
       "      <td>2025/1/2</td>\n",
       "      <td>160</td>\n",
       "      <td>50</td>\n",
       "      <td>19</td>\n",
       "      <td></td>\n",
       "      <td>10</td>\n",
       "      <td></td>\n",
       "    </tr>\n",
       "    <tr>\n",
       "      <th>2</th>\n",
       "      <td>2025/1/3</td>\n",
       "      <td>140</td>\n",
       "      <td>32</td>\n",
       "      <td>19</td>\n",
       "      <td></td>\n",
       "      <td>10</td>\n",
       "      <td></td>\n",
       "    </tr>\n",
       "    <tr>\n",
       "      <th>3</th>\n",
       "      <td>2025/1/4</td>\n",
       "      <td>103</td>\n",
       "      <td>28</td>\n",
       "      <td>19</td>\n",
       "      <td></td>\n",
       "      <td>9</td>\n",
       "      <td></td>\n",
       "    </tr>\n",
       "    <tr>\n",
       "      <th>4</th>\n",
       "      <td>2025/1/5</td>\n",
       "      <td>94</td>\n",
       "      <td>37</td>\n",
       "      <td>7</td>\n",
       "      <td></td>\n",
       "      <td>13</td>\n",
       "      <td></td>\n",
       "    </tr>\n",
       "  </tbody>\n",
       "</table>\n",
       "</div>"
      ],
      "text/plain": [
       "       date  pm25  pm10   o3  no2  so2  co\n",
       "0  2025/1/1   115    50   18        10    \n",
       "1  2025/1/2   160    50   19        10    \n",
       "2  2025/1/3   140    32   19        10    \n",
       "3  2025/1/4   103    28   19         9    \n",
       "4  2025/1/5    94    37    7        13    "
      ]
     },
     "execution_count": 3,
     "metadata": {},
     "output_type": "execute_result"
    }
   ],
   "source": [
    "current_dir = os.getcwd()\n",
    "data_path = os.path.join(current_dir, \"gaziemir.csv\")\n",
    "data = pd.read_csv(data_path)\n",
    "data.head()"
   ]
  },
  {
   "cell_type": "code",
   "execution_count": 4,
   "metadata": {},
   "outputs": [
    {
     "data": {
      "text/plain": [
       "date     0\n",
       " pm25    0\n",
       " pm10    0\n",
       " o3      0\n",
       " no2     0\n",
       " so2     0\n",
       " co      0\n",
       "dtype: int64"
      ]
     },
     "execution_count": 4,
     "metadata": {},
     "output_type": "execute_result"
    }
   ],
   "source": [
    "# Eksik değer var mı?\n",
    "data.isna().sum()"
   ]
  },
  {
   "cell_type": "markdown",
   "metadata": {},
   "source": [
    "# Özelliklerin isimlerindeki boşlukların kaldırılması ve numeric hale çevirilmesi"
   ]
  },
  {
   "cell_type": "code",
   "execution_count": 5,
   "metadata": {},
   "outputs": [],
   "source": [
    "data.columns = data.columns.str.strip()\n",
    "pollutants = ['pm25', 'pm10', 'o3', 'no2', 'so2', 'co']\n",
    "for col in pollutants:\n",
    "    if col in data.columns:\n",
    "        data[col] = pd.to_numeric(data[col].astype(str), errors='coerce')"
   ]
  },
  {
   "cell_type": "code",
   "execution_count": 6,
   "metadata": {},
   "outputs": [
    {
     "name": "stdout",
     "output_type": "stream",
     "text": [
      "<class 'pandas.core.frame.DataFrame'>\n",
      "RangeIndex: 3629 entries, 0 to 3628\n",
      "Data columns (total 7 columns):\n",
      " #   Column  Non-Null Count  Dtype  \n",
      "---  ------  --------------  -----  \n",
      " 0   date    3629 non-null   object \n",
      " 1   pm25    1177 non-null   float64\n",
      " 2   pm10    3481 non-null   float64\n",
      " 3   o3      756 non-null    float64\n",
      " 4   no2     1467 non-null   float64\n",
      " 5   so2     3449 non-null   float64\n",
      " 6   co      1453 non-null   float64\n",
      "dtypes: float64(6), object(1)\n",
      "memory usage: 198.6+ KB\n"
     ]
    }
   ],
   "source": [
    "data.info()"
   ]
  },
  {
   "cell_type": "markdown",
   "metadata": {},
   "source": [
    "## Tarih sütununun datetime olarak belirlenmesi"
   ]
  },
  {
   "cell_type": "code",
   "execution_count": 7,
   "metadata": {},
   "outputs": [
    {
     "data": {
      "text/html": [
       "<div>\n",
       "<style scoped>\n",
       "    .dataframe tbody tr th:only-of-type {\n",
       "        vertical-align: middle;\n",
       "    }\n",
       "\n",
       "    .dataframe tbody tr th {\n",
       "        vertical-align: top;\n",
       "    }\n",
       "\n",
       "    .dataframe thead th {\n",
       "        text-align: right;\n",
       "    }\n",
       "</style>\n",
       "<table border=\"1\" class=\"dataframe\">\n",
       "  <thead>\n",
       "    <tr style=\"text-align: right;\">\n",
       "      <th></th>\n",
       "      <th>pm25</th>\n",
       "      <th>pm10</th>\n",
       "      <th>o3</th>\n",
       "      <th>no2</th>\n",
       "      <th>so2</th>\n",
       "      <th>co</th>\n",
       "    </tr>\n",
       "    <tr>\n",
       "      <th>date</th>\n",
       "      <th></th>\n",
       "      <th></th>\n",
       "      <th></th>\n",
       "      <th></th>\n",
       "      <th></th>\n",
       "      <th></th>\n",
       "    </tr>\n",
       "  </thead>\n",
       "  <tbody>\n",
       "    <tr>\n",
       "      <th>2025-01-01</th>\n",
       "      <td>115.0</td>\n",
       "      <td>50.0</td>\n",
       "      <td>18.0</td>\n",
       "      <td>NaN</td>\n",
       "      <td>10.0</td>\n",
       "      <td>NaN</td>\n",
       "    </tr>\n",
       "    <tr>\n",
       "      <th>2025-01-02</th>\n",
       "      <td>160.0</td>\n",
       "      <td>50.0</td>\n",
       "      <td>19.0</td>\n",
       "      <td>NaN</td>\n",
       "      <td>10.0</td>\n",
       "      <td>NaN</td>\n",
       "    </tr>\n",
       "    <tr>\n",
       "      <th>2025-01-03</th>\n",
       "      <td>140.0</td>\n",
       "      <td>32.0</td>\n",
       "      <td>19.0</td>\n",
       "      <td>NaN</td>\n",
       "      <td>10.0</td>\n",
       "      <td>NaN</td>\n",
       "    </tr>\n",
       "    <tr>\n",
       "      <th>2025-01-04</th>\n",
       "      <td>103.0</td>\n",
       "      <td>28.0</td>\n",
       "      <td>19.0</td>\n",
       "      <td>NaN</td>\n",
       "      <td>9.0</td>\n",
       "      <td>NaN</td>\n",
       "    </tr>\n",
       "    <tr>\n",
       "      <th>2025-01-05</th>\n",
       "      <td>94.0</td>\n",
       "      <td>37.0</td>\n",
       "      <td>7.0</td>\n",
       "      <td>NaN</td>\n",
       "      <td>13.0</td>\n",
       "      <td>NaN</td>\n",
       "    </tr>\n",
       "  </tbody>\n",
       "</table>\n",
       "</div>"
      ],
      "text/plain": [
       "             pm25  pm10    o3  no2   so2  co\n",
       "date                                        \n",
       "2025-01-01  115.0  50.0  18.0  NaN  10.0 NaN\n",
       "2025-01-02  160.0  50.0  19.0  NaN  10.0 NaN\n",
       "2025-01-03  140.0  32.0  19.0  NaN  10.0 NaN\n",
       "2025-01-04  103.0  28.0  19.0  NaN   9.0 NaN\n",
       "2025-01-05   94.0  37.0   7.0  NaN  13.0 NaN"
      ]
     },
     "execution_count": 7,
     "metadata": {},
     "output_type": "execute_result"
    }
   ],
   "source": [
    "data['date'] = pd.to_datetime(data['date'])\n",
    "data.set_index('date', inplace=True)\n",
    "data.head()"
   ]
  },
  {
   "cell_type": "markdown",
   "metadata": {},
   "source": [
    "### Verinin 2022-2025 arası filtrelenmesi"
   ]
  },
  {
   "cell_type": "code",
   "execution_count": 8,
   "metadata": {},
   "outputs": [],
   "source": [
    "data = data.loc['2022-01-01':'2025-01-01']"
   ]
  },
  {
   "cell_type": "code",
   "execution_count": 9,
   "metadata": {},
   "outputs": [
    {
     "data": {
      "text/html": [
       "<div>\n",
       "<style scoped>\n",
       "    .dataframe tbody tr th:only-of-type {\n",
       "        vertical-align: middle;\n",
       "    }\n",
       "\n",
       "    .dataframe tbody tr th {\n",
       "        vertical-align: top;\n",
       "    }\n",
       "\n",
       "    .dataframe thead th {\n",
       "        text-align: right;\n",
       "    }\n",
       "</style>\n",
       "<table border=\"1\" class=\"dataframe\">\n",
       "  <thead>\n",
       "    <tr style=\"text-align: right;\">\n",
       "      <th></th>\n",
       "      <th>pm25</th>\n",
       "      <th>pm10</th>\n",
       "      <th>o3</th>\n",
       "      <th>no2</th>\n",
       "      <th>so2</th>\n",
       "      <th>co</th>\n",
       "    </tr>\n",
       "    <tr>\n",
       "      <th>date</th>\n",
       "      <th></th>\n",
       "      <th></th>\n",
       "      <th></th>\n",
       "      <th></th>\n",
       "      <th></th>\n",
       "      <th></th>\n",
       "    </tr>\n",
       "  </thead>\n",
       "  <tbody>\n",
       "    <tr>\n",
       "      <th>2022-01-01</th>\n",
       "      <td>143.0</td>\n",
       "      <td>62.0</td>\n",
       "      <td>NaN</td>\n",
       "      <td>46.0</td>\n",
       "      <td>8.0</td>\n",
       "      <td>18.0</td>\n",
       "    </tr>\n",
       "    <tr>\n",
       "      <th>2022-01-02</th>\n",
       "      <td>186.0</td>\n",
       "      <td>44.0</td>\n",
       "      <td>NaN</td>\n",
       "      <td>51.0</td>\n",
       "      <td>6.0</td>\n",
       "      <td>15.0</td>\n",
       "    </tr>\n",
       "    <tr>\n",
       "      <th>2022-01-03</th>\n",
       "      <td>134.0</td>\n",
       "      <td>52.0</td>\n",
       "      <td>NaN</td>\n",
       "      <td>47.0</td>\n",
       "      <td>6.0</td>\n",
       "      <td>15.0</td>\n",
       "    </tr>\n",
       "    <tr>\n",
       "      <th>2022-01-04</th>\n",
       "      <td>161.0</td>\n",
       "      <td>48.0</td>\n",
       "      <td>NaN</td>\n",
       "      <td>31.0</td>\n",
       "      <td>5.0</td>\n",
       "      <td>13.0</td>\n",
       "    </tr>\n",
       "    <tr>\n",
       "      <th>2022-01-05</th>\n",
       "      <td>154.0</td>\n",
       "      <td>30.0</td>\n",
       "      <td>NaN</td>\n",
       "      <td>24.0</td>\n",
       "      <td>4.0</td>\n",
       "      <td>10.0</td>\n",
       "    </tr>\n",
       "  </tbody>\n",
       "</table>\n",
       "</div>"
      ],
      "text/plain": [
       "             pm25  pm10  o3   no2  so2    co\n",
       "date                                        \n",
       "2022-01-01  143.0  62.0 NaN  46.0  8.0  18.0\n",
       "2022-01-02  186.0  44.0 NaN  51.0  6.0  15.0\n",
       "2022-01-03  134.0  52.0 NaN  47.0  6.0  15.0\n",
       "2022-01-04  161.0  48.0 NaN  31.0  5.0  13.0\n",
       "2022-01-05  154.0  30.0 NaN  24.0  4.0  10.0"
      ]
     },
     "execution_count": 9,
     "metadata": {},
     "output_type": "execute_result"
    }
   ],
   "source": [
    "# Tarihleri sıralayalım\n",
    "data.sort_index(inplace=True)\n",
    "data.head()"
   ]
  },
  {
   "cell_type": "code",
   "execution_count": 10,
   "metadata": {},
   "outputs": [
    {
     "name": "stdout",
     "output_type": "stream",
     "text": [
      "Eksik tarihler:\n",
      "DatetimeIndex(['2023-10-12', '2023-10-13', '2023-10-14', '2023-10-15',\n",
      "               '2023-10-16', '2023-10-17', '2023-10-18', '2023-10-19',\n",
      "               '2023-10-20', '2023-10-21', '2023-10-22', '2023-10-23',\n",
      "               '2023-11-17', '2023-11-18', '2023-11-19', '2024-02-08',\n",
      "               '2024-03-17', '2024-03-27', '2024-03-28', '2024-03-29',\n",
      "               '2024-03-30', '2024-04-16', '2024-06-15', '2024-06-20',\n",
      "               '2024-06-24', '2024-06-25', '2024-06-26', '2024-06-27',\n",
      "               '2024-06-28', '2024-06-29', '2024-06-30', '2024-07-09',\n",
      "               '2024-07-11', '2024-07-12', '2024-07-15', '2024-08-14',\n",
      "               '2024-09-21', '2024-11-06', '2024-11-23', '2024-11-24',\n",
      "               '2024-12-30'],\n",
      "              dtype='datetime64[ns]', freq=None)\n",
      "             pm25  pm10  o3   no2  so2    co\n",
      "2022-01-01  143.0  62.0 NaN  46.0  8.0  18.0\n",
      "2022-01-02  186.0  44.0 NaN  51.0  6.0  15.0\n",
      "2022-01-03  134.0  52.0 NaN  47.0  6.0  15.0\n",
      "2022-01-04  161.0  48.0 NaN  31.0  5.0  13.0\n",
      "2022-01-05  154.0  30.0 NaN  24.0  4.0  10.0\n"
     ]
    }
   ],
   "source": [
    "# Eksik olan tarih veri noktalarını yaratalım\n",
    "all_dates = pd.date_range(start=data.index.min(), end=data.index.max(), freq='D')\n",
    "missing_dates = all_dates.difference(data.index)\n",
    "data = data.reindex(all_dates)\n",
    "\n",
    "print(\"Eksik tarihler:\")\n",
    "print(missing_dates)\n",
    "\n",
    "print(data.head())"
   ]
  },
  {
   "cell_type": "code",
   "execution_count": 11,
   "metadata": {},
   "outputs": [
    {
     "data": {
      "text/plain": [
       "pm25    191\n",
       "pm10    107\n",
       "o3      353\n",
       "no2     240\n",
       "so2     104\n",
       "co      237\n",
       "dtype: int64"
      ]
     },
     "execution_count": 11,
     "metadata": {},
     "output_type": "execute_result"
    }
   ],
   "source": [
    "# Her bir kirletici için eksik tarihler sonrası eksik veri miktarı\n",
    "data.isna().sum()"
   ]
  },
  {
   "cell_type": "code",
   "execution_count": 12,
   "metadata": {},
   "outputs": [
    {
     "name": "stdout",
     "output_type": "stream",
     "text": [
      "pm25      0\n",
      "pm10      0\n",
      "o3      213\n",
      "no2       0\n",
      "so2       0\n",
      "co        0\n",
      "dtype: int64\n"
     ]
    }
   ],
   "source": [
    "# interpolate() ile eksik verileri dolduralım\n",
    "data.interpolate(inplace=True)\n",
    "print(data.isna().sum())"
   ]
  },
  {
   "cell_type": "code",
   "execution_count": 13,
   "metadata": {},
   "outputs": [
    {
     "name": "stdout",
     "output_type": "stream",
     "text": [
      "pm25    0\n",
      "pm10    0\n",
      "o3      0\n",
      "no2     0\n",
      "so2     0\n",
      "co      0\n",
      "dtype: int64\n"
     ]
    }
   ],
   "source": [
    "# Yine de o3 için eksik veri var. Belki de bu verinin en başlarında eksik veri bulunduğu için interpolate işe yaramadı.\n",
    "# Backward fill ile dolduralım\n",
    "data[\"o3\"].fillna(method='bfill', inplace=True)\n",
    "print(data.isna().sum())"
   ]
  },
  {
   "cell_type": "markdown",
   "metadata": {},
   "source": [
    "## Aykırı değer analizi"
   ]
  },
  {
   "cell_type": "code",
   "execution_count": 14,
   "metadata": {},
   "outputs": [
    {
     "data": {
      "image/png": "[encoded data removed]",
      "text/plain": [
       "<Figure size 720x360 with 1 Axes>"
      ]
     },
     "metadata": {
      "needs_background": "light"
     },
     "output_type": "display_data"
    },
    {
     "data": {
      "image/png": "[encoded data removed]",
      "text/plain": [
       "<Figure size 720x360 with 1 Axes>"
      ]
     },
     "metadata": {
      "needs_background": "light"
     },
     "output_type": "display_data"
    },
    {
     "data": {
      "image/png": "[encoded data removed]",
      "text/plain": [
       "<Figure size 720x360 with 1 Axes>"
      ]
     },
     "metadata": {
      "needs_background": "light"
     },
     "output_type": "display_data"
    },
    {
     "data": {
      "image/png": "[encoded data removed]",
      "text/plain": [
       "<Figure size 720x360 with 1 Axes>"
      ]
     },
     "metadata": {
      "needs_background": "light"
     },
     "output_type": "display_data"
    },
    {
     "data": {
      "image/png": "[encoded data removed]",
      "text/plain": [
       "<Figure size 720x360 with 1 Axes>"
      ]
     },
     "metadata": {
      "needs_background": "light"
     },
     "output_type": "display_data"
    },
    {
     "data": {
      "image/png": "[encoded data removed]",
      "text/plain": [
       "<Figure size 720x360 with 1 Axes>"
      ]
     },
     "metadata": {
      "needs_background": "light"
     },
     "output_type": "display_data"
    }
   ],
   "source": [
    "pollutants = ['pm25', 'pm10', 'o3', 'no2', 'so2', 'co']\n",
    "for i in pollutants:\n",
    "    plt.figure(figsize=(10, 5))\n",
    "    sns.boxplot(x = data[i])\n",
    "    plt.title(i)"
   ]
  },
  {
   "cell_type": "code",
   "execution_count": 15,
   "metadata": {},
   "outputs": [
    {
     "data": {
      "text/html": [
       "<div>\n",
       "<style scoped>\n",
       "    .dataframe tbody tr th:only-of-type {\n",
       "        vertical-align: middle;\n",
       "    }\n",
       "\n",
       "    .dataframe tbody tr th {\n",
       "        vertical-align: top;\n",
       "    }\n",
       "\n",
       "    .dataframe thead th {\n",
       "        text-align: right;\n",
       "    }\n",
       "</style>\n",
       "<table border=\"1\" class=\"dataframe\">\n",
       "  <thead>\n",
       "    <tr style=\"text-align: right;\">\n",
       "      <th></th>\n",
       "      <th>pm25</th>\n",
       "      <th>pm10</th>\n",
       "      <th>o3</th>\n",
       "      <th>no2</th>\n",
       "      <th>so2</th>\n",
       "      <th>co</th>\n",
       "    </tr>\n",
       "  </thead>\n",
       "  <tbody>\n",
       "    <tr>\n",
       "      <th>2022-01-01</th>\n",
       "      <td>96.0</td>\n",
       "      <td>45.0</td>\n",
       "      <td>18.0</td>\n",
       "      <td>42.0</td>\n",
       "      <td>7.0</td>\n",
       "      <td>17.0</td>\n",
       "    </tr>\n",
       "    <tr>\n",
       "      <th>2022-01-02</th>\n",
       "      <td>96.0</td>\n",
       "      <td>44.0</td>\n",
       "      <td>18.0</td>\n",
       "      <td>42.0</td>\n",
       "      <td>6.0</td>\n",
       "      <td>15.0</td>\n",
       "    </tr>\n",
       "    <tr>\n",
       "      <th>2022-01-03</th>\n",
       "      <td>96.0</td>\n",
       "      <td>45.0</td>\n",
       "      <td>18.0</td>\n",
       "      <td>42.0</td>\n",
       "      <td>6.0</td>\n",
       "      <td>15.0</td>\n",
       "    </tr>\n",
       "    <tr>\n",
       "      <th>2022-01-04</th>\n",
       "      <td>96.0</td>\n",
       "      <td>45.0</td>\n",
       "      <td>18.0</td>\n",
       "      <td>31.0</td>\n",
       "      <td>5.0</td>\n",
       "      <td>13.0</td>\n",
       "    </tr>\n",
       "    <tr>\n",
       "      <th>2022-01-05</th>\n",
       "      <td>96.0</td>\n",
       "      <td>30.0</td>\n",
       "      <td>18.0</td>\n",
       "      <td>24.0</td>\n",
       "      <td>4.0</td>\n",
       "      <td>10.0</td>\n",
       "    </tr>\n",
       "  </tbody>\n",
       "</table>\n",
       "</div>"
      ],
      "text/plain": [
       "            pm25  pm10    o3   no2  so2    co\n",
       "2022-01-01  96.0  45.0  18.0  42.0  7.0  17.0\n",
       "2022-01-02  96.0  44.0  18.0  42.0  6.0  15.0\n",
       "2022-01-03  96.0  45.0  18.0  42.0  6.0  15.0\n",
       "2022-01-04  96.0  45.0  18.0  31.0  5.0  13.0\n",
       "2022-01-05  96.0  30.0  18.0  24.0  4.0  10.0"
      ]
     },
     "execution_count": 15,
     "metadata": {},
     "output_type": "execute_result"
    }
   ],
   "source": [
    "# Aykırı değerleri çıkarmak yerine sınırlara kısıtlayalım.\n",
    "def clamp_outliers(data, columns, lower_quantile=0.20, upper_quantile=0.80):\n",
    "    for col in columns:\n",
    "        lower_bound = data[col].quantile(lower_quantile)\n",
    "        upper_bound = data[col].quantile(upper_quantile)\n",
    "        data[col] = data[col].clip(lower=lower_bound, upper=upper_bound)\n",
    "    return data\n",
    "\n",
    "data = clamp_outliers(data, pollutants)\n",
    "data.head()"
   ]
  },
  {
   "cell_type": "code",
   "execution_count": 16,
   "metadata": {},
   "outputs": [
    {
     "data": {
      "image/png": "[encoded data removed]",
      "text/plain": [
       "<Figure size 720x360 with 1 Axes>"
      ]
     },
     "metadata": {
      "needs_background": "light"
     },
     "output_type": "display_data"
    },
    {
     "data": {
      "image/png": "[encoded data removed]",
      "text/plain": [
       "<Figure size 720x360 with 1 Axes>"
      ]
     },
     "metadata": {
      "needs_background": "light"
     },
     "output_type": "display_data"
    },
    {
     "data": {
      "image/png": "[encoded data removed]",
      "text/plain": [
       "<Figure size 720x360 with 1 Axes>"
      ]
     },
     "metadata": {
      "needs_background": "light"
     },
     "output_type": "display_data"
    },
    {
     "data": {
      "image/png": "[encoded data removed]",
      "text/plain": [
       "<Figure size 720x360 with 1 Axes>"
      ]
     },
     "metadata": {
      "needs_background": "light"
     },
     "output_type": "display_data"
    },
    {
     "data": {
      "image/png": "[encoded data removed]",
      "text/plain": [
       "<Figure size 720x360 with 1 Axes>"
      ]
     },
     "metadata": {
      "needs_background": "light"
     },
     "output_type": "display_data"
    },
    {
     "data": {
      "image/png": "[encoded data removed]",
      "text/plain": [
       "<Figure size 720x360 with 1 Axes>"
      ]
     },
     "metadata": {
      "needs_background": "light"
     },
     "output_type": "display_data"
    }
   ],
   "source": [
    "pollutants = ['pm25', 'pm10', 'o3', 'no2', 'so2', 'co']\n",
    "for i in pollutants:\n",
    "    plt.figure(figsize=(10, 5))\n",
    "    sns.boxplot(x = data[i])\n",
    "    plt.title(i)"
   ]
  },
  {
   "cell_type": "code",
   "execution_count": 17,
   "metadata": {},
   "outputs": [],
   "source": [
    "data.drop(['co'], axis=1, inplace=True)"
   ]
  },
  {
   "cell_type": "code",
   "execution_count": 18,
   "metadata": {},
   "outputs": [
    {
     "name": "stdout",
     "output_type": "stream",
     "text": [
      "            pm25       pm10    o3   no2  so2         AQI\n",
      "2022-01-01  96.0  45.000000  18.0  42.0  7.0  171.368421\n",
      "2022-01-02  96.0  44.000000  18.0  42.0  6.0  171.368421\n",
      "2022-01-03  96.0  45.000000  18.0  42.0  6.0  171.368421\n",
      "2022-01-04  96.0  45.000000  18.0  31.0  5.0  171.368421\n",
      "2022-01-05  96.0  30.000000  18.0  24.0  4.0  171.368421\n",
      "...          ...        ...   ...   ...  ...         ...\n",
      "2024-12-28  76.0  23.000000  15.0  18.0  7.0  160.842105\n",
      "2024-12-29  79.0  24.666667  14.0  18.0  7.0  162.421053\n",
      "2024-12-30  91.0  27.333333  13.0  18.0  7.0  168.736842\n",
      "2024-12-31  96.0  30.000000  12.0  18.0  7.0  171.368421\n",
      "2025-01-01  96.0  45.000000  18.0  18.0  7.0  171.368421\n",
      "\n",
      "[1097 rows x 6 columns]\n"
     ]
    }
   ],
   "source": [
    "# Her bir satırdaki kirleticinin AQI değerini hesaplayıp, en yüksek AQI değerini özellik olarak bulunduran fonksiyon.\n",
    "def calculate_aqi(value, breakpoints):\n",
    "    for (c_low, i_low), (c_high, i_high) in zip(breakpoints, breakpoints[1:]):\n",
    "        if c_low <= value <= c_high:\n",
    "            return ((i_high - i_low) / (c_high - c_low)) * (value - c_low) + i_low\n",
    "    return 0  \n",
    "def get_max_aqi(row, breakpoints):\n",
    "    aqi_values = [calculate_aqi(row[col], breakpoints[col]) for col in breakpoints]\n",
    "    return max(aqi_values)\n",
    "\n",
    "breakpoints = {\n",
    "    \"pm25\": [(0.0, 0), (12.0, 50), (35.4, 100), (55.4, 150), (150.4, 200), (250.4, 300), (350.4, 400), (500.4, 500)],\n",
    "    \"pm10\": [(0, 0), (54, 50), (154, 100), (254, 150), (354, 200), (424, 300), (504, 400), (604, 500)],\n",
    "    \"o3\": [(0, 0), (54, 50), (70, 100), (85, 150), (105, 200), (200, 300)],\n",
    "    \"no2\": [(0, 0), (53, 50), (100, 100), (360, 150), (649, 200), (1249, 300)],\n",
    "    \"so2\": [(0, 0), (35, 50), (75, 100), (185, 150), (304, 200), (604, 300)],\n",
    "    #\"co\": [(0.0, 0), (4.4, 50), (9.4, 100), (12.4, 150), (15.4, 200), (30.4, 300)]\n",
    "}\n",
    "\n",
    "data[\"AQI\"] = data.apply(lambda row: get_max_aqi(row, breakpoints), axis=1)\n",
    "\n",
    "print(data)\n"
   ]
  },
  {
   "cell_type": "code",
   "execution_count": 19,
   "metadata": {},
   "outputs": [
    {
     "data": {
      "text/html": [
       "<div>\n",
       "<style scoped>\n",
       "    .dataframe tbody tr th:only-of-type {\n",
       "        vertical-align: middle;\n",
       "    }\n",
       "\n",
       "    .dataframe tbody tr th {\n",
       "        vertical-align: top;\n",
       "    }\n",
       "\n",
       "    .dataframe thead th {\n",
       "        text-align: right;\n",
       "    }\n",
       "</style>\n",
       "<table border=\"1\" class=\"dataframe\">\n",
       "  <thead>\n",
       "    <tr style=\"text-align: right;\">\n",
       "      <th></th>\n",
       "      <th>AQI</th>\n",
       "    </tr>\n",
       "  </thead>\n",
       "  <tbody>\n",
       "    <tr>\n",
       "      <th>2022-01-01</th>\n",
       "      <td>171.368421</td>\n",
       "    </tr>\n",
       "    <tr>\n",
       "      <th>2022-01-02</th>\n",
       "      <td>171.368421</td>\n",
       "    </tr>\n",
       "    <tr>\n",
       "      <th>2022-01-03</th>\n",
       "      <td>171.368421</td>\n",
       "    </tr>\n",
       "    <tr>\n",
       "      <th>2022-01-04</th>\n",
       "      <td>171.368421</td>\n",
       "    </tr>\n",
       "    <tr>\n",
       "      <th>2022-01-05</th>\n",
       "      <td>171.368421</td>\n",
       "    </tr>\n",
       "  </tbody>\n",
       "</table>\n",
       "</div>"
      ],
      "text/plain": [
       "                   AQI\n",
       "2022-01-01  171.368421\n",
       "2022-01-02  171.368421\n",
       "2022-01-03  171.368421\n",
       "2022-01-04  171.368421\n",
       "2022-01-05  171.368421"
      ]
     },
     "execution_count": 19,
     "metadata": {},
     "output_type": "execute_result"
    }
   ],
   "source": [
    "# co kirleticisi aşırı fazla aykırı değerlere sahip olduğu için, bu kirleticiyi veri setinden çıkarıyoruz.\n",
    "#data.drop(columns=['pm25', 'pm10', 'o3', 'no2', 'so2', 'co'], inplace=True)\n",
    "data.drop(columns=['pm25', 'pm10', 'o3', 'no2', 'so2'], inplace=True)\n",
    "data.head()"
   ]
  },
  {
   "cell_type": "code",
   "execution_count": 20,
   "metadata": {},
   "outputs": [],
   "source": [
    "# Veri ölçeklendiricisinin tanımı ve veri setinin ölçeklendirilmesi\n",
    "scaler = MinMaxScaler()\n",
    "data = scaler.fit_transform(data)\n",
    "aqi_data = data.astype('float32')"
   ]
  },
  {
   "cell_type": "code",
   "execution_count": 21,
   "metadata": {},
   "outputs": [
    {
     "name": "stdout",
     "output_type": "stream",
     "text": [
      "Gün sayilari (training set, test set) : (877, 220)\n"
     ]
    }
   ],
   "source": [
    "# test ve eğitim setlerinin oluşturulması\n",
    "TRAIN_SIZE = 0.80\n",
    "\n",
    "train_size = int(len(aqi_data)*TRAIN_SIZE)\n",
    "test_size = len(aqi_data) - train_size\n",
    "\n",
    "train, test = aqi_data[0:train_size, :], aqi_data[train_size:len(aqi_data),:]\n",
    "print(\"Gün sayilari (training set, test set) : \" + str((len(train),len(test))))"
   ]
  },
  {
   "cell_type": "code",
   "execution_count": 22,
   "metadata": {},
   "outputs": [],
   "source": [
    "# Veri setinin LSTM için uygun hale getirilmesi\n",
    "def veri_yap(dataset, window_size = 1):\n",
    "    data_X, data_Y = [], []\n",
    "    for i in range(len(dataset) - window_size - 1):\n",
    "        a = dataset[i:(i + window_size), 0]\n",
    "        data_X.append(a)\n",
    "        data_Y.append(dataset[i + window_size, 0])\n",
    "    return(np.array(data_X), np.array(data_Y))"
   ]
  },
  {
   "cell_type": "code",
   "execution_count": 23,
   "metadata": {},
   "outputs": [
    {
     "name": "stdout",
     "output_type": "stream",
     "text": [
      "Orijinal train veri şekli:\n",
      "(855, 21)\n",
      "Yeni train veri şekli:\n",
      "(855, 1, 21)\n"
     ]
    }
   ],
   "source": [
    "# Windows size ile verinin kaç gün aralıklara bakacağına karar veriyorsunuz ve bu hücreden değiştiriyorsunuz.\n",
    "\n",
    "window_size = 21\n",
    "train_X, train_Y = veri_yap(train, window_size)\n",
    "test_X, test_Y = veri_yap(test, window_size)\n",
    "print(\"Orijinal train veri şekli:\")\n",
    "print(train_X.shape)\n",
    "\n",
    "train_X = np.reshape(train_X, (train_X.shape[0], 1, train_X.shape[1]))\n",
    "test_X = np.reshape(test_X, (test_X.shape[0], 1, test_X.shape[1]))\n",
    "print(\"Yeni train veri şekli:\")\n",
    "print(train_X.shape)"
   ]
  },
  {
   "cell_type": "markdown",
   "metadata": {},
   "source": [
    "# Model eğitimi"
   ]
  },
  {
   "cell_type": "code",
   "execution_count": 24,
   "metadata": {},
   "outputs": [
    {
     "name": "stdout",
     "output_type": "stream",
     "text": [
      "Epoch 1/75\n",
      "9/9 [==============================] - 6s 231ms/step - loss: 0.0725\n",
      "Epoch 2/75\n",
      "9/9 [==============================] - 2s 231ms/step - loss: 0.0386\n",
      "Epoch 3/75\n",
      "9/9 [==============================] - 2s 225ms/step - loss: 0.0304\n",
      "Epoch 4/75\n",
      "9/9 [==============================] - 2s 214ms/step - loss: 0.0294\n",
      "Epoch 5/75\n",
      "9/9 [==============================] - 2s 214ms/step - loss: 0.0256\n",
      "Epoch 6/75\n",
      "9/9 [==============================] - 2s 214ms/step - loss: 0.0244\n",
      "Epoch 7/75\n",
      "9/9 [==============================] - 2s 222ms/step - loss: 0.0230\n",
      "Epoch 8/75\n",
      "9/9 [==============================] - 2s 212ms/step - loss: 0.0222\n",
      "Epoch 9/75\n",
      "9/9 [==============================] - 2s 213ms/step - loss: 0.0216\n",
      "Epoch 10/75\n",
      "9/9 [==============================] - 2s 213ms/step - loss: 0.0217\n",
      "Epoch 11/75\n",
      "9/9 [==============================] - 2s 215ms/step - loss: 0.0217\n",
      "Epoch 12/75\n",
      "9/9 [==============================] - 2s 214ms/step - loss: 0.0214\n",
      "Epoch 13/75\n",
      "9/9 [==============================] - 2s 213ms/step - loss: 0.0228\n",
      "Epoch 14/75\n",
      "9/9 [==============================] - 2s 213ms/step - loss: 0.0230\n",
      "Epoch 15/75\n",
      "9/9 [==============================] - 2s 221ms/step - loss: 0.0224\n",
      "Epoch 16/75\n",
      "9/9 [==============================] - 2s 213ms/step - loss: 0.0243\n",
      "Epoch 17/75\n",
      "9/9 [==============================] - 2s 213ms/step - loss: 0.0252\n",
      "Epoch 18/75\n",
      "9/9 [==============================] - 2s 213ms/step - loss: 0.0240\n",
      "Epoch 19/75\n",
      "9/9 [==============================] - 2s 214ms/step - loss: 0.0228\n",
      "Epoch 20/75\n",
      "9/9 [==============================] - 2s 215ms/step - loss: 0.0217\n",
      "Epoch 21/75\n",
      "9/9 [==============================] - 2s 213ms/step - loss: 0.0211\n",
      "Epoch 22/75\n",
      "9/9 [==============================] - 2s 213ms/step - loss: 0.0209\n",
      "Epoch 23/75\n",
      "9/9 [==============================] - 2s 215ms/step - loss: 0.0212\n",
      "Epoch 24/75\n",
      "9/9 [==============================] - 2s 217ms/step - loss: 0.0212\n",
      "Epoch 25/75\n",
      "9/9 [==============================] - 2s 214ms/step - loss: 0.0208\n",
      "Epoch 26/75\n",
      "9/9 [==============================] - 2s 214ms/step - loss: 0.0208\n",
      "Epoch 27/75\n",
      "9/9 [==============================] - 2s 214ms/step - loss: 0.0209\n",
      "Epoch 28/75\n",
      "9/9 [==============================] - 2s 213ms/step - loss: 0.0209\n",
      "Epoch 29/75\n",
      "9/9 [==============================] - 2s 214ms/step - loss: 0.0211\n",
      "Epoch 30/75\n",
      "9/9 [==============================] - 2s 224ms/step - loss: 0.0212\n",
      "Epoch 31/75\n",
      "9/9 [==============================] - 2s 214ms/step - loss: 0.0211\n",
      "Epoch 32/75\n",
      "9/9 [==============================] - 2s 213ms/step - loss: 0.0208\n",
      "Epoch 33/75\n",
      "9/9 [==============================] - 2s 214ms/step - loss: 0.0209\n",
      "Epoch 34/75\n",
      "9/9 [==============================] - 2s 216ms/step - loss: 0.0207\n",
      "Epoch 35/75\n",
      "9/9 [==============================] - 2s 216ms/step - loss: 0.0207\n",
      "Epoch 36/75\n",
      "9/9 [==============================] - 2s 216ms/step - loss: 0.0207\n",
      "Epoch 37/75\n",
      "9/9 [==============================] - 2s 217ms/step - loss: 0.0209\n",
      "Epoch 38/75\n",
      "9/9 [==============================] - 2s 228ms/step - loss: 0.0207\n",
      "Epoch 39/75\n",
      "9/9 [==============================] - 2s 218ms/step - loss: 0.0206\n",
      "Epoch 40/75\n",
      "9/9 [==============================] - 2s 220ms/step - loss: 0.0210\n",
      "Epoch 41/75\n",
      "9/9 [==============================] - 2s 222ms/step - loss: 0.0208\n",
      "Epoch 42/75\n",
      "9/9 [==============================] - 2s 222ms/step - loss: 0.0215\n",
      "Epoch 43/75\n",
      "9/9 [==============================] - 2s 219ms/step - loss: 0.0228\n",
      "Epoch 44/75\n",
      "9/9 [==============================] - 2s 220ms/step - loss: 0.0226\n",
      "Epoch 45/75\n",
      "9/9 [==============================] - 2s 233ms/step - loss: 0.0211\n",
      "Epoch 46/75\n",
      "9/9 [==============================] - 2s 221ms/step - loss: 0.0215\n",
      "Epoch 47/75\n",
      "9/9 [==============================] - 2s 220ms/step - loss: 0.0218\n",
      "Epoch 48/75\n",
      "9/9 [==============================] - 2s 221ms/step - loss: 0.0211\n",
      "Epoch 49/75\n",
      "9/9 [==============================] - 2s 225ms/step - loss: 0.0211\n",
      "Epoch 50/75\n",
      "9/9 [==============================] - 2s 222ms/step - loss: 0.0217\n",
      "Epoch 51/75\n",
      "9/9 [==============================] - 2s 219ms/step - loss: 0.0210\n",
      "Epoch 52/75\n",
      "9/9 [==============================] - 2s 219ms/step - loss: 0.0207\n",
      "Epoch 53/75\n",
      "9/9 [==============================] - 2s 229ms/step - loss: 0.0209\n",
      "Epoch 54/75\n",
      "9/9 [==============================] - 2s 220ms/step - loss: 0.0204\n",
      "Epoch 55/75\n",
      "9/9 [==============================] - 2s 223ms/step - loss: 0.0205\n",
      "Epoch 56/75\n",
      "9/9 [==============================] - 2s 219ms/step - loss: 0.0207\n",
      "Epoch 57/75\n",
      "9/9 [==============================] - 2s 222ms/step - loss: 0.0212\n",
      "Epoch 58/75\n",
      "9/9 [==============================] - 2s 220ms/step - loss: 0.0218\n",
      "Epoch 59/75\n",
      "9/9 [==============================] - 2s 220ms/step - loss: 0.0215\n",
      "Epoch 60/75\n",
      "9/9 [==============================] - 2s 230ms/step - loss: 0.0205\n",
      "Epoch 61/75\n",
      "9/9 [==============================] - 2s 222ms/step - loss: 0.0206\n",
      "Epoch 62/75\n",
      "9/9 [==============================] - 2s 221ms/step - loss: 0.0207\n",
      "Epoch 63/75\n",
      "9/9 [==============================] - 2s 221ms/step - loss: 0.0214\n",
      "Epoch 64/75\n",
      "9/9 [==============================] - 2s 221ms/step - loss: 0.0207\n",
      "Epoch 65/75\n",
      "9/9 [==============================] - 2s 219ms/step - loss: 0.0204\n",
      "Epoch 66/75\n",
      "9/9 [==============================] - 2s 222ms/step - loss: 0.0206\n",
      "Epoch 67/75\n",
      "9/9 [==============================] - 2s 221ms/step - loss: 0.0206\n",
      "Epoch 68/75\n",
      "9/9 [==============================] - 2s 231ms/step - loss: 0.0208\n",
      "Epoch 69/75\n",
      "9/9 [==============================] - 2s 220ms/step - loss: 0.0201\n",
      "Epoch 70/75\n",
      "9/9 [==============================] - 2s 221ms/step - loss: 0.0201\n",
      "Epoch 71/75\n",
      "9/9 [==============================] - 2s 219ms/step - loss: 0.0214\n",
      "Epoch 72/75\n",
      "9/9 [==============================] - 2s 220ms/step - loss: 0.0202\n",
      "Epoch 73/75\n",
      "9/9 [==============================] - 2s 219ms/step - loss: 0.0199\n",
      "Epoch 74/75\n",
      "9/9 [==============================] - 2s 219ms/step - loss: 0.0200\n",
      "Epoch 75/75\n",
      "9/9 [==============================] - 2s 237ms/step - loss: 0.0203\n"
     ]
    }
   ],
   "source": [
    "# Model parametreleri\n",
    "def fit_model(train_X, train_Y, window_size):\n",
    "    model = Sequential()\n",
    "    \n",
    "    model.add(Bidirectional(LSTM(1000, \n",
    "                return_sequences=True),input_shape = (1, window_size)))\n",
    "    model.add(LSTM(500, return_sequences=False))\n",
    "    model.add(Dense(1))\n",
    "    model.compile(loss = \"huber_loss\", \n",
    "                  optimizer = \"Adam\")\n",
    "   \n",
    "    model.fit(train_X, \n",
    "              train_Y, \n",
    "              epochs =75, \n",
    "              batch_size =96, \n",
    "              verbose = 1)\n",
    "    \n",
    "    return(model)\n",
    "\n",
    "model1 = fit_model(train_X, train_Y, window_size)"
   ]
  },
  {
   "cell_type": "code",
   "execution_count": 25,
   "metadata": {},
   "outputs": [
    {
     "name": "stdout",
     "output_type": "stream",
     "text": [
      "27/27 [==============================] - 1s 14ms/step\n",
      "7/7 [==============================] - 0s 14ms/step\n",
      "Training data metrics:\n",
      "RMSE: 8.45, MAE: 5.85, R2: 0.69, MAPE: 11.04%\n",
      "Test data metrics:\n",
      "RMSE: 5.93, MAE: 4.21, R2: 0.81, MAPE: 8.77%\n"
     ]
    }
   ],
   "source": [
    "# Değerlendirme metrikleri.\n",
    "def tahminveskor(model, X, Y):\n",
    "    pred = scaler.inverse_transform(model.predict(X))\n",
    "    orig_data = scaler.inverse_transform(Y.reshape(-1, 1))\n",
    "\n",
    "    rmse = np.sqrt(mean_squared_error(orig_data, pred[:, 0]))\n",
    "    mae = mean_absolute_error(orig_data, pred[:, 0])\n",
    "    r2 = r2_score(orig_data, pred[:, 0])\n",
    "    mape = np.mean(np.abs((orig_data - pred[:, 0]) / orig_data)) * 100\n",
    "\n",
    "    return rmse, mae, r2, mape, pred\n",
    "rmse_train, mae_train, r2_train, mape_train, train_pred = tahminveskor(model1, train_X, train_Y)\n",
    "rmse_test, mae_test, r2_test, mape_test, test_pred = tahminveskor(model1, test_X, test_Y)\n",
    "\n",
    "print(\"Training data metrics:\")\n",
    "print(\"RMSE: %.2f, MAE: %.2f, R2: %.2f, MAPE: %.2f%%\" % (rmse_train, mae_train, r2_train, mape_train))\n",
    "\n",
    "print(\"Test data metrics:\")\n",
    "print(\"RMSE: %.2f, MAE: %.2f, R2: %.2f, MAPE: %.2f%%\" % (rmse_test, mae_test, r2_test, mape_test))\n"
   ]
  },
  {
   "cell_type": "code",
   "execution_count": 26,
   "metadata": {},
   "outputs": [
    {
     "name": "stdout",
     "output_type": "stream",
     "text": [
      "7/7 [==============================] - 0s 14ms/step\n"
     ]
    },
    {
     "data": {
      "image/png": "[encoded data removed]",
      "text/plain": [
       "<Figure size 864x432 with 1 Axes>"
      ]
     },
     "metadata": {
      "needs_background": "light"
     },
     "output_type": "display_data"
    }
   ],
   "source": [
    "test_pred = scaler.inverse_transform(model1.predict(test_X))\n",
    "orig_test_data = scaler.inverse_transform(test_Y.reshape(-1, 1))\n",
    "\n",
    "plt.figure(figsize=(12, 6))\n",
    "plt.plot(orig_test_data, label=\"Gerçek Değerler\", color=\"blue\", alpha=0.7)\n",
    "plt.plot(test_pred, label=\"Tahmin Edilen Değerler\", color=\"red\", alpha=0.7)\n",
    "plt.title(\"Gerçek Değerler vs Tahmin Edilen Değerler\")\n",
    "plt.xlabel(\"Örnek Numarası\")\n",
    "plt.ylabel(\"Değer\")\n",
    "plt.legend()\n",
    "plt.show()"
   ]
  }
 ],
 "metadata": {
  "kernelspec": {
   "display_name": "base",
   "language": "python",
   "name": "python3"
  },
  "language_info": {
   "codemirror_mode": {
    "name": "ipython",
    "version": 3
   },
   "file_extension": ".py",
   "mimetype": "text/x-python",
   "name": "python",
   "nbconvert_exporter": "python",
   "pygments_lexer": "ipython3",
   "version": "3.8.8"
  }
 },
 "nbformat": 4,
 "nbformat_minor": 2
}
